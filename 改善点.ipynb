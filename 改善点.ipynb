{
 "cells": [
  {
   "cell_type": "markdown",
   "metadata": {},
   "source": [
    "# `Titanic Survival - From Top 70% to Top 7% on LB` を参考\n",
    "- [リンク](https://www.kaggle.com/darshanjain29/titanic-survival-from-top-70-to-top-7-on-lb)"
   ]
  },
  {
   "cell_type": "markdown",
   "metadata": {},
   "source": [
    "## 前処理\n",
    "\n",
    "#### 訓練データとテストデータへの前処理方法\n",
    "- リスト化してfor文で同一の前処理を施す\n",
    "\n",
    "```python\n",
    "data = [train_df, test_df] \n",
    "for dataset in data:\n",
    "    # 共通の前処理\n",
    "```"
   ]
  },
  {
   "cell_type": "markdown",
   "metadata": {},
   "source": [
    "#### Cabin\n",
    "- Deckに変換\n",
    "\n",
    "```python\n",
    "deck = {\"A\": 1, \"B\": 2, \"C\": 3, \"D\": 4, \"E\": 5, \"F\": 6, \"G\": 7, \"U\": 8}\n",
    "data = [train_df, test_df]\n",
    "\n",
    "for dataset in data:\n",
    "    dataset['Deck'] = dataset['Cabin'].fillna(\"U\")\n",
    "    dataset['Deck'] = dataset['Cabin'].astype(str).str[0] \n",
    "    dataset['Deck'] = dataset['Deck'].str.capitalize()\n",
    "    dataset['Deck'] = dataset['Deck'].map(deck)\n",
    "    dataset['Deck'] = dataset['Deck'].fillna(0)\n",
    "    dataset['Deck'] = dataset['Deck'].astype(int) \n",
    "```"
   ]
  },
  {
   "cell_type": "markdown",
   "metadata": {},
   "source": [
    "#### Age\n",
    "- 欠損値は平均値で埋め\n",
    "- なぜかTestデータの値を壊す\n",
    "- 層に分ける\n",
    "    - -11, 11-18, 18-22, 22-27, 27-33, 33-40, 40-66, 66-\n",
    "\n",
    "```python\n",
    "data = [train_df, test_df]\n",
    "for dataset in data:\n",
    "    #dataset['Age'] = dataset['Age'].astype(int)\n",
    "    dataset.loc[ dataset['Age'] <= 11, 'Age'] = 0\n",
    "    dataset.loc[(dataset['Age'] > 11) & (dataset['Age'] <= 18), 'Age'] = 1\n",
    "    dataset.loc[(dataset['Age'] > 18) & (dataset['Age'] <= 22), 'Age'] = 2\n",
    "    dataset.loc[(dataset['Age'] > 22) & (dataset['Age'] <= 27), 'Age'] = 3\n",
    "    dataset.loc[(dataset['Age'] > 27) & (dataset['Age'] <= 33), 'Age'] = 4\n",
    "    dataset.loc[(dataset['Age'] > 33) & (dataset['Age'] <= 40), 'Age'] = 5\n",
    "    dataset.loc[(dataset['Age'] > 40) & (dataset['Age'] <= 66), 'Age'] = 6\n",
    "    dataset.loc[ dataset['Age'] > 66, 'Age'] = 6\n",
    "```"
   ]
  },
  {
   "cell_type": "markdown",
   "metadata": {},
   "source": [
    "#### 料金\n",
    "- 欠損値は0埋め\n",
    "- 層に分ける\n",
    "    - 7.91, 7.91-14.454, 14.454-31, 31-99, 99-250, 250-\n",
    "\n",
    "```python\n",
    "data = [train_df, test_df]\n",
    "\n",
    "#train_df['category_fare'] = pd.qcut(train_df['Fare'], 4)\n",
    "\n",
    "#train_df['category_fare'].value_counts()\n",
    "\n",
    "for dataset in data:\n",
    "    dataset.loc[ dataset['Fare'] <= 7.91, 'Fare'] = 0\n",
    "    dataset.loc[(dataset['Fare'] > 7.91) & (dataset['Fare'] <= 14.454), 'Fare'] = 1\n",
    "    dataset.loc[(dataset['Fare'] > 14.454) & (dataset['Fare'] <= 31), 'Fare']   = 2\n",
    "    dataset.loc[(dataset['Fare'] > 31) & (dataset['Fare'] <= 99), 'Fare']   = 3\n",
    "    dataset.loc[(dataset['Fare'] > 99) & (dataset['Fare'] <= 250), 'Fare']   = 4\n",
    "    dataset.loc[ dataset['Fare'] > 250, 'Fare'] = 5\n",
    "    dataset['Fare'] = dataset['Fare'].astype(float)\n",
    "```"
   ]
  },
  {
   "cell_type": "markdown",
   "metadata": {},
   "source": [
    "#### 名前\n",
    "- {\"Mr\": 1, \"Miss\": 2, \"Mrs\": 3, \"Master\": 4, \"Rare\": 5}で分類\n",
    "\n",
    "```python\n",
    "titles = {\"Mr\": 1, \"Miss\": 2, \"Mrs\": 3, \"Master\": 4, \"Rare\": 5}\n",
    "\n",
    "for dataset in data:\n",
    "    dataset['Title'] = dataset['Name'].str.extract(' ([A-Za-z]+)\\.')\n",
    "    dataset['Title'] = dataset['Title'].replace(['Lady', 'Countess','Capt', 'Col','Don', 'Dr',\\\n",
    "                              'Major', 'Rev', 'Sir', 'Jonkheer', 'Dona', 'Mlle', 'Ms', 'Mme'], 'Rare')\n",
    "\n",
    "    dataset['Title'] = dataset['Title'].map(titles)\n",
    "    \n",
    "    # filling NaN with 0, to get safe\n",
    "    dataset['Title'] = dataset['Title'].fillna(0)\n",
    "```"
   ]
  },
  {
   "cell_type": "markdown",
   "metadata": {},
   "source": [
    "#### 標準化\n",
    "- 適用せず"
   ]
  },
  {
   "cell_type": "markdown",
   "metadata": {},
   "source": [
    "## モデル\n",
    "\n",
    "#### 評価方法\n",
    "- Cross Validation Scoreを使っている\n",
    "\n",
    "```python\n",
    "scores = cross_val_score(clf, X_train, Y_train, cv = 10, scoring = \"accuracy\")\n",
    "print(scores)\n",
    "```"
   ]
  },
  {
   "cell_type": "markdown",
   "metadata": {},
   "source": [
    "#### LogisticRegression\n",
    "```python\n",
    "from sklearn.linear_model import LogisticRegression\n",
    "\n",
    "clf = LogisticRegression() \n",
    "clf.fit(X_train, Y_train)\n",
    "\n",
    "Y_pred  = clf.predict(X_test)\n",
    "```"
   ]
  },
  {
   "cell_type": "markdown",
   "metadata": {},
   "source": [
    "#### svm.SVC()\n",
    "```python\n",
    "from sklearn import svm\n",
    "clf_svm = svm.SVC()\n",
    "clf_svm.fit(X_train, Y_train)\n",
    "\n",
    "Y_pred_svm  = clf_svm.predict(X_test)\n",
    "```"
   ]
  },
  {
   "cell_type": "markdown",
   "metadata": {},
   "source": [
    "#### tree.DecisionTreeClassifier\n",
    "```python\n",
    "from sklearn import tree\n",
    "clf_dt = tree.DecisionTreeClassifier(ccp_alpha=0.0, class_weight=None, criterion='gini',\n",
    "                       max_depth=None, max_features=None, max_leaf_nodes=None,\n",
    "                       min_impurity_decrease=0.0, min_impurity_split=None,\n",
    "                       min_samples_leaf=5, min_samples_split=25,\n",
    "                       min_weight_fraction_leaf=0.0, presort='deprecated',\n",
    "                       random_state=None, splitter='best')\n",
    "clf_dt.fit(X_train, Y_train)\n",
    "\n",
    "Y_pred_svm  = clf_dt.predict(X_test)\n",
    "```"
   ]
  },
  {
   "cell_type": "markdown",
   "metadata": {},
   "source": [
    "#### RandomForestClassifier\n",
    "```python\n",
    "from sklearn.ensemble import RandomForestClassifier\n",
    "\n",
    "clf_rf = RandomForestClassifier(max_depth=2, random_state=0)\n",
    "\n",
    "clf_rf.fit(X_train, Y_train)\n",
    "```"
   ]
  },
  {
   "cell_type": "markdown",
   "metadata": {},
   "source": [
    "#### GradientBoostingClassifier: 勾配ブースト\n",
    "```python\n",
    "from sklearn.ensemble import GradientBoostingClassifier\n",
    "\n",
    "clf_gbc = GradientBoostingClassifier(n_estimators=100, learning_rate=1.0, max_depth=1, random_state=0)\n",
    "\n",
    "clf_gbc.fit(X_train, Y_train)\n",
    "\n",
    "Y_pred_rf  = clf_gbc.predict(X_test)\n",
    "```"
   ]
  },
  {
   "cell_type": "markdown",
   "metadata": {},
   "source": [
    "#### BaggingClassifier: バギング\n",
    "```python\n",
    "from sklearn.ensemble import BaggingClassifier\n",
    "\n",
    "clf_bagging = BaggingClassifier()\n",
    "\n",
    "clf_bagging.fit(X_train, Y_train)\n",
    "\n",
    "Y_pred_rf  = clf_bagging.predict(X_test)\n",
    "```"
   ]
  },
  {
   "cell_type": "markdown",
   "metadata": {},
   "source": [
    "#### GaussianNB: ナイーブベイズ分類器\n",
    "```python\n",
    "from sklearn.naive_bayes import GaussianNB\n",
    "\n",
    "clf_gnb = GaussianNB()\n",
    "\n",
    "clf_gnb.fit(X_train, Y_train)\n",
    "\n",
    "Y_pred_rf  = clf_gnb.predict(X_test)\n",
    "```"
   ]
  },
  {
   "cell_type": "markdown",
   "metadata": {},
   "source": [
    "#### XGBClassifier\n",
    "```python\n",
    "import xgboost as xgb\n",
    "from xgboost import XGBClassifier\n",
    "\n",
    "clf_xgb = XGBClassifier().fit(X_train, Y_train)\n",
    "\n",
    "Y_pred  = clf_xgb.predict(X_test)\n",
    "\n",
    "clf_xgb.score(X_train, Y_train)\n",
    "\n",
    "scores_rf = cross_val_score(clf_xgb, X_train, Y_train, cv = 10, scoring = \"accuracy\")\n",
    "print (\"Scores: \",scores_rf.mean())\n",
    "```"
   ]
  },
  {
   "cell_type": "code",
   "execution_count": null,
   "metadata": {},
   "outputs": [],
   "source": []
  }
 ],
 "metadata": {
  "kernelspec": {
   "display_name": "Python 3.7.6 64-bit ('ML-discrimination': conda)",
   "language": "python",
   "name": "python37664bitmldiscriminationconda171cab0e833e420b901b2926b613d585"
  },
  "language_info": {
   "codemirror_mode": {
    "name": "ipython",
    "version": 3
   },
   "file_extension": ".py",
   "mimetype": "text/x-python",
   "name": "python",
   "nbconvert_exporter": "python",
   "pygments_lexer": "ipython3",
   "version": "3.7.6"
  }
 },
 "nbformat": 4,
 "nbformat_minor": 2
}
